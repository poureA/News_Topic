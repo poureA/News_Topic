{
 "cells": [
  {
   "cell_type": "code",
   "execution_count": 437,
   "id": "c31599de",
   "metadata": {},
   "outputs": [],
   "source": [
    "from pandas import read_csv \n",
    "from tensorflow.keras import layers , models\n",
    "from matplotlib.pyplot import plot , xlabel , ylabel , show , title , legend , pie\n",
    "from tensorflow.keras.preprocessing.text import Tokenizer\n",
    "from tensorflow.keras.preprocessing.sequence import pad_sequences\n",
    "from tensorflow.keras.optimizers import Adam\n",
    "from tensorflow.keras.utils import to_categorical\n",
    "tokenizer = Tokenizer(oov_token='<00U00>')"
   ]
  },
  {
   "cell_type": "code",
   "execution_count": 438,
   "id": "0b503fe9",
   "metadata": {},
   "outputs": [],
   "source": [
    "train_path = \"D:\\\\datasets\\\\News_Topic\\\\training_data.csv\"\n",
    "test_path = \"D:\\\\datasets\\\\News_Topic\\\\test_data.csv\"\n",
    "file_tr = read_csv(train_path)\n",
    "file_tst = read_csv(test_path)\n",
    "df = file_tr.copy()\n",
    "df_tst = file_tst.copy()"
   ]
  },
  {
   "cell_type": "code",
   "execution_count": 439,
   "id": "1271f3ef",
   "metadata": {},
   "outputs": [
    {
     "data": {
      "text/html": [
       "<div>\n",
       "<style scoped>\n",
       "    .dataframe tbody tr th:only-of-type {\n",
       "        vertical-align: middle;\n",
       "    }\n",
       "\n",
       "    .dataframe tbody tr th {\n",
       "        vertical-align: top;\n",
       "    }\n",
       "\n",
       "    .dataframe thead th {\n",
       "        text-align: right;\n",
       "    }\n",
       "</style>\n",
       "<table border=\"1\" class=\"dataframe\">\n",
       "  <thead>\n",
       "    <tr style=\"text-align: right;\">\n",
       "      <th></th>\n",
       "      <th>text</th>\n",
       "      <th>label</th>\n",
       "    </tr>\n",
       "  </thead>\n",
       "  <tbody>\n",
       "    <tr>\n",
       "      <th>73711</th>\n",
       "      <td>Smith proves he has class to fulfil all United...</td>\n",
       "      <td>1</td>\n",
       "    </tr>\n",
       "    <tr>\n",
       "      <th>78414</th>\n",
       "      <td>Japan vows to stay in Iraq despite killing BAG...</td>\n",
       "      <td>0</td>\n",
       "    </tr>\n",
       "    <tr>\n",
       "      <th>36042</th>\n",
       "      <td>African Leaders Seek More Cell Phones, Compute...</td>\n",
       "      <td>3</td>\n",
       "    </tr>\n",
       "    <tr>\n",
       "      <th>75384</th>\n",
       "      <td>Opec begs US help to calm oil market Opec, the...</td>\n",
       "      <td>2</td>\n",
       "    </tr>\n",
       "    <tr>\n",
       "      <th>40331</th>\n",
       "      <td>Hamm #39;s case to keep gold goes to arbitrato...</td>\n",
       "      <td>1</td>\n",
       "    </tr>\n",
       "    <tr>\n",
       "      <th>117881</th>\n",
       "      <td>Eli should envy friends of Ben #39;s Ben Roeth...</td>\n",
       "      <td>1</td>\n",
       "    </tr>\n",
       "    <tr>\n",
       "      <th>29926</th>\n",
       "      <td>Intel discloses WiMAX silicon plans SAN FRANCI...</td>\n",
       "      <td>3</td>\n",
       "    </tr>\n",
       "    <tr>\n",
       "      <th>15959</th>\n",
       "      <td>Corporate kleptocracy that mirrors Maxwell #39...</td>\n",
       "      <td>2</td>\n",
       "    </tr>\n",
       "    <tr>\n",
       "      <th>91053</th>\n",
       "      <td>Meta Arafat! Palestinians deserve his dream Th...</td>\n",
       "      <td>0</td>\n",
       "    </tr>\n",
       "    <tr>\n",
       "      <th>34767</th>\n",
       "      <td>Israeli Missile Strike Kills Two Gaza Militant...</td>\n",
       "      <td>0</td>\n",
       "    </tr>\n",
       "  </tbody>\n",
       "</table>\n",
       "</div>"
      ],
      "text/plain": [
       "                                                     text  label\n",
       "73711   Smith proves he has class to fulfil all United...      1\n",
       "78414   Japan vows to stay in Iraq despite killing BAG...      0\n",
       "36042   African Leaders Seek More Cell Phones, Compute...      3\n",
       "75384   Opec begs US help to calm oil market Opec, the...      2\n",
       "40331   Hamm #39;s case to keep gold goes to arbitrato...      1\n",
       "117881  Eli should envy friends of Ben #39;s Ben Roeth...      1\n",
       "29926   Intel discloses WiMAX silicon plans SAN FRANCI...      3\n",
       "15959   Corporate kleptocracy that mirrors Maxwell #39...      2\n",
       "91053   Meta Arafat! Palestinians deserve his dream Th...      0\n",
       "34767   Israeli Missile Strike Kills Two Gaza Militant...      0"
      ]
     },
     "execution_count": 439,
     "metadata": {},
     "output_type": "execute_result"
    }
   ],
   "source": [
    "df.sample(10)"
   ]
  },
  {
   "cell_type": "code",
   "execution_count": 440,
   "id": "627858f1",
   "metadata": {},
   "outputs": [
    {
     "name": "stdout",
     "output_type": "stream",
     "text": [
      "<class 'pandas.core.frame.DataFrame'>\n",
      "RangeIndex: 120000 entries, 0 to 119999\n",
      "Data columns (total 2 columns):\n",
      " #   Column  Non-Null Count   Dtype \n",
      "---  ------  --------------   ----- \n",
      " 0   text    120000 non-null  object\n",
      " 1   label   120000 non-null  int64 \n",
      "dtypes: int64(1), object(1)\n",
      "memory usage: 1.8+ MB\n"
     ]
    }
   ],
   "source": [
    "df.info()"
   ]
  },
  {
   "cell_type": "code",
   "execution_count": 441,
   "id": "4e584422",
   "metadata": {},
   "outputs": [
    {
     "data": {
      "text/html": [
       "<div>\n",
       "<style scoped>\n",
       "    .dataframe tbody tr th:only-of-type {\n",
       "        vertical-align: middle;\n",
       "    }\n",
       "\n",
       "    .dataframe tbody tr th {\n",
       "        vertical-align: top;\n",
       "    }\n",
       "\n",
       "    .dataframe thead th {\n",
       "        text-align: right;\n",
       "    }\n",
       "</style>\n",
       "<table border=\"1\" class=\"dataframe\">\n",
       "  <thead>\n",
       "    <tr style=\"text-align: right;\">\n",
       "      <th></th>\n",
       "      <th>text</th>\n",
       "      <th>label</th>\n",
       "    </tr>\n",
       "  </thead>\n",
       "  <tbody>\n",
       "    <tr>\n",
       "      <th>0</th>\n",
       "      <td>European stocks rally on hope ECB may be done ...</td>\n",
       "      <td>2</td>\n",
       "    </tr>\n",
       "    <tr>\n",
       "      <th>1</th>\n",
       "      <td>Gold prices have hit a new high, while the val...</td>\n",
       "      <td>2</td>\n",
       "    </tr>\n",
       "    <tr>\n",
       "      <th>2</th>\n",
       "      <td>Why food discount stickers may be a thing of t...</td>\n",
       "      <td>2</td>\n",
       "    </tr>\n",
       "    <tr>\n",
       "      <th>3</th>\n",
       "      <td>German cabinet tries to solve ‘no-debt’ crisis...</td>\n",
       "      <td>2</td>\n",
       "    </tr>\n",
       "    <tr>\n",
       "      <th>4</th>\n",
       "      <td>Indonesia's volcano eruption leaves 22 dead</td>\n",
       "      <td>0</td>\n",
       "    </tr>\n",
       "    <tr>\n",
       "      <th>5</th>\n",
       "      <td>Adverts for Air France, Lufthansa and Etihad h...</td>\n",
       "      <td>0</td>\n",
       "    </tr>\n",
       "    <tr>\n",
       "      <th>6</th>\n",
       "      <td>Maori MP performs haka before swearing oath to...</td>\n",
       "      <td>0</td>\n",
       "    </tr>\n",
       "    <tr>\n",
       "      <th>7</th>\n",
       "      <td>Philippines earthquake: Video shows chaos in s...</td>\n",
       "      <td>0</td>\n",
       "    </tr>\n",
       "    <tr>\n",
       "      <th>8</th>\n",
       "      <td>Wakeskater plunges off Dubai skyscraper pool i...</td>\n",
       "      <td>0</td>\n",
       "    </tr>\n",
       "    <tr>\n",
       "      <th>9</th>\n",
       "      <td>Daniel Wiffen secures European Aquatic Champio...</td>\n",
       "      <td>1</td>\n",
       "    </tr>\n",
       "    <tr>\n",
       "      <th>10</th>\n",
       "      <td>Lionel Messi: Argentina forward named Time mag...</td>\n",
       "      <td>1</td>\n",
       "    </tr>\n",
       "    <tr>\n",
       "      <th>11</th>\n",
       "      <td>Independent regulator for cricket introduced b...</td>\n",
       "      <td>1</td>\n",
       "    </tr>\n",
       "    <tr>\n",
       "      <th>12</th>\n",
       "      <td>Rory McIlroy: World number two backs plans to ...</td>\n",
       "      <td>1</td>\n",
       "    </tr>\n",
       "    <tr>\n",
       "      <th>13</th>\n",
       "      <td>Tiger Woods 'stalls' after promising second ro...</td>\n",
       "      <td>1</td>\n",
       "    </tr>\n",
       "    <tr>\n",
       "      <th>14</th>\n",
       "      <td>The UN climate change conference in Dubai is c...</td>\n",
       "      <td>3</td>\n",
       "    </tr>\n",
       "    <tr>\n",
       "      <th>15</th>\n",
       "      <td>Hackers have been able to gain access to perso...</td>\n",
       "      <td>3</td>\n",
       "    </tr>\n",
       "    <tr>\n",
       "      <th>16</th>\n",
       "      <td>The country hosting COP28 climate talks aimed ...</td>\n",
       "      <td>3</td>\n",
       "    </tr>\n",
       "    <tr>\n",
       "      <th>17</th>\n",
       "      <td>2023 to be hottest year in recorded history, s...</td>\n",
       "      <td>3</td>\n",
       "    </tr>\n",
       "    <tr>\n",
       "      <th>18</th>\n",
       "      <td>Why weather in games is getting more realistic</td>\n",
       "      <td>3</td>\n",
       "    </tr>\n",
       "  </tbody>\n",
       "</table>\n",
       "</div>"
      ],
      "text/plain": [
       "                                                 text  label\n",
       "0   European stocks rally on hope ECB may be done ...      2\n",
       "1   Gold prices have hit a new high, while the val...      2\n",
       "2   Why food discount stickers may be a thing of t...      2\n",
       "3   German cabinet tries to solve ‘no-debt’ crisis...      2\n",
       "4         Indonesia's volcano eruption leaves 22 dead      0\n",
       "5   Adverts for Air France, Lufthansa and Etihad h...      0\n",
       "6   Maori MP performs haka before swearing oath to...      0\n",
       "7   Philippines earthquake: Video shows chaos in s...      0\n",
       "8   Wakeskater plunges off Dubai skyscraper pool i...      0\n",
       "9   Daniel Wiffen secures European Aquatic Champio...      1\n",
       "10  Lionel Messi: Argentina forward named Time mag...      1\n",
       "11  Independent regulator for cricket introduced b...      1\n",
       "12  Rory McIlroy: World number two backs plans to ...      1\n",
       "13  Tiger Woods 'stalls' after promising second ro...      1\n",
       "14  The UN climate change conference in Dubai is c...      3\n",
       "15  Hackers have been able to gain access to perso...      3\n",
       "16  The country hosting COP28 climate talks aimed ...      3\n",
       "17  2023 to be hottest year in recorded history, s...      3\n",
       "18     Why weather in games is getting more realistic      3"
      ]
     },
     "execution_count": 441,
     "metadata": {},
     "output_type": "execute_result"
    }
   ],
   "source": [
    "df_tst.columns = df.columns\n",
    "df_tst"
   ]
  },
  {
   "cell_type": "code",
   "execution_count": 442,
   "id": "8f539f95",
   "metadata": {},
   "outputs": [
    {
     "data": {
      "image/png": "[encoded data removed]",
      "text/plain": [
       "<Figure size 640x480 with 1 Axes>"
      ]
     },
     "metadata": {},
     "output_type": "display_data"
    }
   ],
   "source": [
    "lbl = df.label.unique()\n",
    "pie([df.label.to_list().count(l) for l in lbl],autopct='%1.1f%%')\n",
    "title(f'Labels distribution in train dataset\\nOverall : {len(df.label)}')\n",
    "legend(lbl)\n",
    "show()"
   ]
  },
  {
   "cell_type": "code",
   "execution_count": 443,
   "id": "20f72546",
   "metadata": {},
   "outputs": [
    {
     "data": {
      "image/png": "[encoded data removed]",
      "text/plain": [
       "<Figure size 640x480 with 1 Axes>"
      ]
     },
     "metadata": {},
     "output_type": "display_data"
    }
   ],
   "source": [
    "lbl = df_tst.label.unique()\n",
    "pie([df_tst.label.to_list().count(l) for l in lbl],autopct='%1.1f%%')\n",
    "title(f'Labels distribution in test dataset\\nOverall : {len(df_tst.label)}')\n",
    "legend(lbl)\n",
    "show()"
   ]
  },
  {
   "cell_type": "code",
   "execution_count": 444,
   "id": "1b39ce8c",
   "metadata": {},
   "outputs": [],
   "source": [
    "#Creating a function to remove stop words from each text .\n",
    "def Filter(text)->str:\n",
    "    '''function docstring'''\n",
    "    stopwords = [\"a\", \"about\", \"above\", \"after\", \"again\", \"against\", \"all\", \"am\", \"an\", \"and\", \"any\", \"are\", \"as\", \"at\", \"be\", \"because\", \"been\", \"before\", \"being\", \"below\", \"between\", \"both\", \"but\", \"by\", \"could\", \"did\", \"do\", \"does\", \"doing\", \"down\", \"during\", \"each\", \"few\", \"for\", \"from\", \"further\", \"had\", \"has\", \"have\", \"having\", \"he\", \"he'd\", \"he'll\", \"he's\", \"her\", \"here\", \"here's\", \"hers\", \"herself\", \"him\", \"himself\", \"his\", \"how\", \"how's\", \"i\", \"i'd\", \"i'll\", \"i'm\", \"i've\", \"if\", \"in\", \"into\", \"is\", \"it\", \"it's\", \"its\", \"itself\", \"let's\", \"me\", \"more\", \"most\", \"my\", \"myself\", \"nor\", \"of\", \"on\", \"once\", \"only\", \"or\", \"other\", \"ought\", \"our\", \"ours\", \"ourselves\", \"out\", \"over\", \"own\", \"same\", \"she\", \"she'd\", \"she'll\", \"she's\", \"should\", \"so\", \"some\", \"such\", \"than\", \"that\", \"that's\", \"the\", \"their\", \"theirs\", \"them\", \"themselves\", \"then\", \"there\", \"there's\", \"these\", \"they\", \"they'd\", \"they'll\", \"they're\", \"they've\", \"this\", \"those\", \"through\", \"to\", \"too\", \"under\", \"until\", \"up\", \"very\", \"was\", \"we\", \"we'd\", \"we'll\", \"we're\", \"we've\", \"were\", \"what\", \"what's\", \"when\", \"when's\", \"where\", \"where's\", \"which\", \"while\", \"who\", \"who's\", \"whom\", \"why\", \"why's\", \"with\", \"would\", \"you\", \"you'd\", \"you'll\", \"you're\", \"you've\", \"your\", \"yours\", \"yourself\", \"yourselves\" ]\n",
    "    result = [word for word in text.lower().split() if word not in stopwords]\n",
    "    return ' '.join(result)"
   ]
  },
  {
   "cell_type": "code",
   "execution_count": 562,
   "id": "d601c1e5",
   "metadata": {},
   "outputs": [],
   "source": [
    "features = [Filter(text) for text in df['text']]\n",
    "labels = df.label.to_numpy().reshape(-1,1)\n",
    "labels = to_categorical(labels)\n",
    "tokenizer.fit_on_texts(features)\n",
    "seqs = tokenizer.texts_to_sequences(features)\n",
    "mxlen = 100\n",
    "matrix = pad_sequences(seqs,padding='post',truncating='post',maxlen=mxlen)"
   ]
  },
  {
   "cell_type": "code",
   "execution_count": 563,
   "id": "47117678",
   "metadata": {},
   "outputs": [
    {
     "data": {
      "text/plain": [
       "(120000, 100)"
      ]
     },
     "execution_count": 563,
     "metadata": {},
     "output_type": "execute_result"
    }
   ],
   "source": [
    "matrix.shape"
   ]
  },
  {
   "cell_type": "code",
   "execution_count": 564,
   "id": "c2f8bb2c",
   "metadata": {},
   "outputs": [
    {
     "data": {
      "text/plain": [
       "(120000, 4)"
      ]
     },
     "execution_count": 564,
     "metadata": {},
     "output_type": "execute_result"
    }
   ],
   "source": [
    "labels.shape"
   ]
  },
  {
   "cell_type": "code",
   "execution_count": 565,
   "id": "b3d4d6ea",
   "metadata": {},
   "outputs": [
    {
     "data": {
      "text/plain": [
       "array([[1., 0., 0., 0.],\n",
       "       [0., 1., 0., 0.],\n",
       "       [1., 0., 0., 0.],\n",
       "       [1., 0., 0., 0.],\n",
       "       [1., 0., 0., 0.],\n",
       "       [1., 0., 0., 0.],\n",
       "       [0., 1., 0., 0.],\n",
       "       [0., 1., 0., 0.],\n",
       "       [0., 1., 0., 0.],\n",
       "       [0., 1., 0., 0.]], dtype=float32)"
      ]
     },
     "execution_count": 565,
     "metadata": {},
     "output_type": "execute_result"
    }
   ],
   "source": [
    "labels[-10:]"
   ]
  },
  {
   "cell_type": "code",
   "execution_count": 566,
   "id": "0ed8eaf7",
   "metadata": {},
   "outputs": [],
   "source": [
    "model = models.Sequential([layers.Embedding(len(tokenizer.index_word)+1,4,input_length=mxlen),\n",
    "                          layers.GlobalAveragePooling1D(),\n",
    "                          layers.Dense(4,activation='softmax')])\n",
    "model.compile(optimizer=Adam(learning_rate=0.001),\n",
    "              loss='categorical_crossentropy',\n",
    "              metrics=['accuracy'])"
   ]
  },
  {
   "cell_type": "code",
   "execution_count": 567,
   "id": "448ed8b9",
   "metadata": {},
   "outputs": [],
   "source": [
    "xtr , ytr = matrix[:100000] , labels[:100000]\n",
    "xts , yts = matrix[100000:] , labels[100000:]"
   ]
  },
  {
   "cell_type": "code",
   "execution_count": 568,
   "id": "0edccb33",
   "metadata": {},
   "outputs": [
    {
     "name": "stdout",
     "output_type": "stream",
     "text": [
      "Train size : 100000\n",
      "Valid size : 20000\n"
     ]
    }
   ],
   "source": [
    "if len(xtr)==len(ytr) and len(xts)==len(yts):\n",
    "    print(f'Train size : {len(xtr)}\\nValid size : {len(xts)}')"
   ]
  },
  {
   "cell_type": "code",
   "execution_count": 569,
   "id": "d5d5d8e4",
   "metadata": {},
   "outputs": [
    {
     "name": "stdout",
     "output_type": "stream",
     "text": [
      "Epoch 1/10\n",
      "3125/3125 [==============================] - 14s 4ms/step - loss: 0.9981 - accuracy: 0.7956 - val_loss: 0.6249 - val_accuracy: 0.8692\n",
      "Epoch 2/10\n",
      "3125/3125 [==============================] - 9s 3ms/step - loss: 0.4448 - accuracy: 0.8962 - val_loss: 0.3830 - val_accuracy: 0.8934\n",
      "Epoch 3/10\n",
      "3125/3125 [==============================] - 7s 2ms/step - loss: 0.3228 - accuracy: 0.9107 - val_loss: 0.3129 - val_accuracy: 0.9068\n",
      "Epoch 4/10\n",
      "3125/3125 [==============================] - 8s 2ms/step - loss: 0.2760 - accuracy: 0.9188 - val_loss: 0.2834 - val_accuracy: 0.9128\n",
      "Epoch 5/10\n",
      "3125/3125 [==============================] - 7s 2ms/step - loss: 0.2473 - accuracy: 0.9248 - val_loss: 0.2685 - val_accuracy: 0.9145\n",
      "Epoch 6/10\n",
      "3125/3125 [==============================] - 8s 2ms/step - loss: 0.2259 - accuracy: 0.9299 - val_loss: 0.2601 - val_accuracy: 0.9151\n",
      "Epoch 7/10\n",
      "3125/3125 [==============================] - 7s 2ms/step - loss: 0.2089 - accuracy: 0.9344 - val_loss: 0.2532 - val_accuracy: 0.9169\n",
      "Epoch 8/10\n",
      "3125/3125 [==============================] - 7s 2ms/step - loss: 0.1945 - accuracy: 0.9389 - val_loss: 0.2524 - val_accuracy: 0.9161\n",
      "Epoch 9/10\n",
      "3125/3125 [==============================] - 7s 2ms/step - loss: 0.1822 - accuracy: 0.9423 - val_loss: 0.2485 - val_accuracy: 0.9171\n",
      "Epoch 10/10\n",
      "3125/3125 [==============================] - 9s 3ms/step - loss: 0.1712 - accuracy: 0.9456 - val_loss: 0.2474 - val_accuracy: 0.9172\n"
     ]
    }
   ],
   "source": [
    "history = model.fit(xtr , ytr,epochs=10,validation_data=(xts , yts))"
   ]
  },
  {
   "cell_type": "code",
   "execution_count": 575,
   "id": "77fc73e8",
   "metadata": {},
   "outputs": [
    {
     "data": {
      "image/png": "[encoded data removed]",
      "text/plain": [
       "<Figure size 640x480 with 1 Axes>"
      ]
     },
     "metadata": {},
     "output_type": "display_data"
    },
    {
     "data": {
      "image/png": "[encoded data removed]",
      "text/plain": [
       "<Figure size 640x480 with 1 Axes>"
      ]
     },
     "metadata": {},
     "output_type": "display_data"
    }
   ],
   "source": [
    "#Visualize models performance\n",
    "epoch = range(1,len(history.epoch)+1)\n",
    "results = history.history\n",
    "plot(epoch,results['accuracy'],'blue')\n",
    "plot(epoch,results['val_accuracy'],'green')\n",
    "xlabel('Epochs')\n",
    "ylabel('Accuracy')\n",
    "title('News_Topic')\n",
    "legend(['Train','Valid'])\n",
    "show()\n",
    "plot(epoch,results['loss'],'black')\n",
    "plot(epoch,results['val_loss'],'red')\n",
    "xlabel('Epochs')\n",
    "ylabel('Loss')\n",
    "title('News_Topic')\n",
    "legend(['Train','Valid'])\n",
    "show()"
   ]
  },
  {
   "cell_type": "code",
   "execution_count": 571,
   "id": "2f846311",
   "metadata": {},
   "outputs": [],
   "source": [
    "features_tst = [Filter(text) for text in df_tst['text']]\n",
    "labels_tst = df_tst.label.to_numpy().reshape(-1,1)\n",
    "labels_tst = to_categorical(labels_tst)\n",
    "seqs_tst = tokenizer.texts_to_sequences(features_tst)\n",
    "matrix_tst = pad_sequences(seqs_tst,padding='post',truncating='post',maxlen=mxlen)"
   ]
  },
  {
   "cell_type": "code",
   "execution_count": 572,
   "id": "1a4bd947",
   "metadata": {},
   "outputs": [
    {
     "data": {
      "text/plain": [
       "(19, 100)"
      ]
     },
     "execution_count": 572,
     "metadata": {},
     "output_type": "execute_result"
    }
   ],
   "source": [
    "matrix_tst.shape"
   ]
  },
  {
   "cell_type": "code",
   "execution_count": 573,
   "id": "c835a6ba",
   "metadata": {},
   "outputs": [
    {
     "data": {
      "text/plain": [
       "(19, 4)"
      ]
     },
     "execution_count": 573,
     "metadata": {},
     "output_type": "execute_result"
    }
   ],
   "source": [
    "labels_tst.shape"
   ]
  },
  {
   "cell_type": "code",
   "execution_count": 574,
   "id": "f2fad1de",
   "metadata": {},
   "outputs": [
    {
     "name": "stdout",
     "output_type": "stream",
     "text": [
      "1/1 [==============================] - 0s 183ms/step - loss: 0.7435 - accuracy: 0.8947\n"
     ]
    },
    {
     "data": {
      "text/plain": [
       "[0.7435358166694641, 0.8947368264198303]"
      ]
     },
     "execution_count": 574,
     "metadata": {},
     "output_type": "execute_result"
    }
   ],
   "source": [
    "model.evaluate(matrix_tst,labels_tst)"
   ]
  },
  {
   "cell_type": "code",
   "execution_count": null,
   "id": "a6432ae7",
   "metadata": {},
   "outputs": [],
   "source": []
  }
 ],
 "metadata": {
  "kernelspec": {
   "display_name": "Python 3 (ipykernel)",
   "language": "python",
   "name": "python3"
  },
  "language_info": {
   "codemirror_mode": {
    "name": "ipython",
    "version": 3
   },
   "file_extension": ".py",
   "mimetype": "text/x-python",
   "name": "python",
   "nbconvert_exporter": "python",
   "pygments_lexer": "ipython3",
   "version": "3.11.5"
  }
 },
 "nbformat": 4,
 "nbformat_minor": 5
}
